<html xmlns:v="urn:schemas-microsoft-com:vml"
xmlns:o="urn:schemas-microsoft-com:office:office"
xmlns:w="urn:schemas-microsoft-com:office:word"
xmlns:m="http://schemas.microsoft.com/office/2004/12/omml"
xmlns="http://www.w3.org/TR/REC-html40">

<head>
<meta http-equiv=Content-Type content="text/html; charset=us-ascii">
<meta name=ProgId content=Word.Document>
<meta name=Generator content="Microsoft Word 15">
<meta name=Originator content="Microsoft Word 15">
<link rel=File-List href="ASSIGNMENT-4_files/filelist.xml">
<!--[if gte mso 9]><xml>
 <o:DocumentProperties>
  <o:Author>anandhu</o:Author>
  <o:Template>Normal</o:Template>
  <o:LastAuthor>anandhu</o:LastAuthor>
  <o:Revision>8</o:Revision>
  <o:TotalTime>1</o:TotalTime>
  <o:Created>2022-10-31T08:13:00Z</o:Created>
  <o:LastSaved>2022-10-31T08:14:00Z</o:LastSaved>
  <o:Pages>1</o:Pages>
  <o:Words>286</o:Words>
  <o:Characters>1633</o:Characters>
  <o:Lines>13</o:Lines>
  <o:Paragraphs>3</o:Paragraphs>
  <o:CharactersWithSpaces>1916</o:CharactersWithSpaces>
  <o:Version>16.00</o:Version>
 </o:DocumentProperties>
 <o:OfficeDocumentSettings>
  <o:AllowPNG/>
 </o:OfficeDocumentSettings>
</xml><![endif]-->
<link rel=themeData href="ASSIGNMENT-4_files/themedata.thmx">
<link rel=colorSchemeMapping href="ASSIGNMENT-4_files/colorschememapping.xml">
<!--[if gte mso 9]><xml>
 <w:WordDocument>
  <w:View>Print</w:View>
  <w:Zoom>70</w:Zoom>
  <w:TrackMoves>false</w:TrackMoves>
  <w:TrackFormatting/>
  <w:ValidateAgainstSchemas/>
  <w:SaveIfXMLInvalid>false</w:SaveIfXMLInvalid>
  <w:IgnoreMixedContent>false</w:IgnoreMixedContent>
  <w:AlwaysShowPlaceholderText>false</w:AlwaysShowPlaceholderText>
  <w:DoNotPromoteQF/>
  <w:LidThemeOther>EN-IN</w:LidThemeOther>
  <w:LidThemeAsian>X-NONE</w:LidThemeAsian>
  <w:LidThemeComplexScript>X-NONE</w:LidThemeComplexScript>
  <w:Compatibility>
   <w:BreakWrappedTables/>
   <w:SplitPgBreakAndParaMark/>
  </w:Compatibility>
  <m:mathPr>
   <m:mathFont m:val="Cambria Math"/>
   <m:brkBin m:val="before"/>
   <m:brkBinSub m:val="&#45;-"/>
   <m:smallFrac m:val="off"/>
   <m:dispDef/>
   <m:lMargin m:val="0"/>
   <m:rMargin m:val="0"/>
   <m:defJc m:val="centerGroup"/>
   <m:wrapIndent m:val="1440"/>
   <m:intLim m:val="subSup"/>
   <m:naryLim m:val="undOvr"/>
  </m:mathPr></w:WordDocument>
</xml><![endif]--><!--[if gte mso 9]><xml>
 <w:LatentStyles DefLockedState="false" DefUnhideWhenUsed="false"
  DefSemiHidden="false" DefQFormat="false" DefPriority="99"
  LatentStyleCount="376">
  <w:LsdException Locked="false" Priority="0" QFormat="true" Name="Normal"/>
  <w:LsdException Locked="false" Priority="9" QFormat="true" Name="heading 1"/>
  <w:LsdException Locked="false" Priority="9" SemiHidden="true"
   UnhideWhenUsed="true" QFormat="true" Name="heading 2"/>
  <w:LsdException Locked="false" Priority="9" SemiHidden="true"
   UnhideWhenUsed="true" QFormat="true" Name="heading 3"/>
  <w:LsdException Locked="false" Priority="9" SemiHidden="true"
   UnhideWhenUsed="true" QFormat="true" Name="heading 4"/>
  <w:LsdException Locked="false" Priority="9" SemiHidden="true"
   UnhideWhenUsed="true" QFormat="true" Name="heading 5"/>
  <w:LsdException Locked="false" Priority="9" SemiHidden="true"
   UnhideWhenUsed="true" QFormat="true" Name="heading 6"/>
  <w:LsdException Locked="false" Priority="9" SemiHidden="true"
   UnhideWhenUsed="true" QFormat="true" Name="heading 7"/>
  <w:LsdException Locked="false" Priority="9" SemiHidden="true"
   UnhideWhenUsed="true" QFormat="true" Name="heading 8"/>
  <w:LsdException Locked="false" Priority="9" SemiHidden="true"
   UnhideWhenUsed="true" QFormat="true" Name="heading 9"/>
  <w:LsdException Locked="false" SemiHidden="true" UnhideWhenUsed="true"
   Name="index 1"/>
  <w:LsdException Locked="false" SemiHidden="true" UnhideWhenUsed="true"
   Name="index 2"/>
  <w:LsdException Locked="false" SemiHidden="true" UnhideWhenUsed="true"
   Name="index 3"/>
  <w:LsdException Locked="false" SemiHidden="true" UnhideWhenUsed="true"
   Name="index 4"/>
  <w:LsdException Locked="false" SemiHidden="true" UnhideWhenUsed="true"
   Name="index 5"/>
  <w:LsdException Locked="false" SemiHidden="true" UnhideWhenUsed="true"
   Name="index 6"/>
  <w:LsdException Locked="false" SemiHidden="true" UnhideWhenUsed="true"
   Name="index 7"/>
  <w:LsdException Locked="false" SemiHidden="true" UnhideWhenUsed="true"
   Name="index 8"/>
  <w:LsdException Locked="false" SemiHidden="true" UnhideWhenUsed="true"
   Name="index 9"/>
  <w:LsdException Locked="false" Priority="39" SemiHidden="true"
   UnhideWhenUsed="true" Name="toc 1"/>
  <w:LsdException Locked="false" Priority="39" SemiHidden="true"
   UnhideWhenUsed="true" Name="toc 2"/>
  <w:LsdException Locked="false" Priority="39" SemiHidden="true"
   UnhideWhenUsed="true" Name="toc 3"/>
  <w:LsdException Locked="false" Priority="39" SemiHidden="true"
   UnhideWhenUsed="true" Name="toc 4"/>
  <w:LsdException Locked="false" Priority="39" SemiHidden="true"
   UnhideWhenUsed="true" Name="toc 5"/>
  <w:LsdException Locked="false" Priority="39" SemiHidden="true"
   UnhideWhenUsed="true" Name="toc 6"/>
  <w:LsdException Locked="false" Priority="39" SemiHidden="true"
   UnhideWhenUsed="true" Name="toc 7"/>
  <w:LsdException Locked="false" Priority="39" SemiHidden="true"
   UnhideWhenUsed="true" Name="toc 8"/>
  <w:LsdException Locked="false" Priority="39" SemiHidden="true"
   UnhideWhenUsed="true" Name="toc 9"/>
  <w:LsdException Locked="false" SemiHidden="true" UnhideWhenUsed="true"
   Name="Normal Indent"/>
  <w:LsdException Locked="false" SemiHidden="true" UnhideWhenUsed="true"
   Name="footnote text"/>
  <w:LsdException Locked="false" SemiHidden="true" UnhideWhenUsed="true"
   Name="annotation text"/>
  <w:LsdException Locked="false" SemiHidden="true" UnhideWhenUsed="true"
   Name="header"/>
  <w:LsdException Locked="false" SemiHidden="true" UnhideWhenUsed="true"
   Name="footer"/>
  <w:LsdException Locked="false" SemiHidden="true" UnhideWhenUsed="true"
   Name="index heading"/>
  <w:LsdException Locked="false" Priority="35" SemiHidden="true"
   UnhideWhenUsed="true" QFormat="true" Name="caption"/>
  <w:LsdException Locked="false" SemiHidden="true" UnhideWhenUsed="true"
   Name="table of figures"/>
  <w:LsdException Locked="false" SemiHidden="true" UnhideWhenUsed="true"
   Name="envelope address"/>
  <w:LsdException Locked="false" SemiHidden="true" UnhideWhenUsed="true"
   Name="envelope return"/>
  <w:LsdException Locked="false" SemiHidden="true" UnhideWhenUsed="true"
   Name="footnote reference"/>
  <w:LsdException Locked="false" SemiHidden="true" UnhideWhenUsed="true"
   Name="annotation reference"/>
  <w:LsdException Locked="false" SemiHidden="true" UnhideWhenUsed="true"
   Name="line number"/>
  <w:LsdException Locked="false" SemiHidden="true" UnhideWhenUsed="true"
   Name="page number"/>
  <w:LsdException Locked="false" SemiHidden="true" UnhideWhenUsed="true"
   Name="endnote reference"/>
  <w:LsdException Locked="false" SemiHidden="true" UnhideWhenUsed="true"
   Name="endnote text"/>
  <w:LsdException Locked="false" SemiHidden="true" UnhideWhenUsed="true"
   Name="table of authorities"/>
  <w:LsdException Locked="false" SemiHidden="true" UnhideWhenUsed="true"
   Name="macro"/>
  <w:LsdException Locked="false" SemiHidden="true" UnhideWhenUsed="true"
   Name="toa heading"/>
  <w:LsdException Locked="false" SemiHidden="true" UnhideWhenUsed="true"
   Name="List"/>
  <w:LsdException Locked="false" SemiHidden="true" UnhideWhenUsed="true"
   Name="List Bullet"/>
  <w:LsdException Locked="false" SemiHidden="true" UnhideWhenUsed="true"
   Name="List Number"/>
  <w:LsdException Locked="false" SemiHidden="true" UnhideWhenUsed="true"
   Name="List 2"/>
  <w:LsdException Locked="false" SemiHidden="true" UnhideWhenUsed="true"
   Name="List 3"/>
  <w:LsdException Locked="false" SemiHidden="true" UnhideWhenUsed="true"
   Name="List 4"/>
  <w:LsdException Locked="false" SemiHidden="true" UnhideWhenUsed="true"
   Name="List 5"/>
  <w:LsdException Locked="false" SemiHidden="true" UnhideWhenUsed="true"
   Name="List Bullet 2"/>
  <w:LsdException Locked="false" SemiHidden="true" UnhideWhenUsed="true"
   Name="List Bullet 3"/>
  <w:LsdException Locked="false" SemiHidden="true" UnhideWhenUsed="true"
   Name="List Bullet 4"/>
  <w:LsdException Locked="false" SemiHidden="true" UnhideWhenUsed="true"
   Name="List Bullet 5"/>
  <w:LsdException Locked="false" SemiHidden="true" UnhideWhenUsed="true"
   Name="List Number 2"/>
  <w:LsdException Locked="false" SemiHidden="true" UnhideWhenUsed="true"
   Name="List Number 3"/>
  <w:LsdException Locked="false" SemiHidden="true" UnhideWhenUsed="true"
   Name="List Number 4"/>
  <w:LsdException Locked="false" SemiHidden="true" UnhideWhenUsed="true"
   Name="List Number 5"/>
  <w:LsdException Locked="false" Priority="10" QFormat="true" Name="Title"/>
  <w:LsdException Locked="false" SemiHidden="true" UnhideWhenUsed="true"
   Name="Closing"/>
  <w:LsdException Locked="false" SemiHidden="true" UnhideWhenUsed="true"
   Name="Signature"/>
  <w:LsdException Locked="false" Priority="1" SemiHidden="true"
   UnhideWhenUsed="true" Name="Default Paragraph Font"/>
  <w:LsdException Locked="false" SemiHidden="true" UnhideWhenUsed="true"
   Name="Body Text"/>
  <w:LsdException Locked="false" SemiHidden="true" UnhideWhenUsed="true"
   Name="Body Text Indent"/>
  <w:LsdException Locked="false" SemiHidden="true" UnhideWhenUsed="true"
   Name="List Continue"/>
  <w:LsdException Locked="false" SemiHidden="true" UnhideWhenUsed="true"
   Name="List Continue 2"/>
  <w:LsdException Locked="false" SemiHidden="true" UnhideWhenUsed="true"
   Name="List Continue 3"/>
  <w:LsdException Locked="false" SemiHidden="true" UnhideWhenUsed="true"
   Name="List Continue 4"/>
  <w:LsdException Locked="false" SemiHidden="true" UnhideWhenUsed="true"
   Name="List Continue 5"/>
  <w:LsdException Locked="false" SemiHidden="true" UnhideWhenUsed="true"
   Name="Message Header"/>
  <w:LsdException Locked="false" Priority="11" QFormat="true" Name="Subtitle"/>
  <w:LsdException Locked="false" SemiHidden="true" UnhideWhenUsed="true"
   Name="Salutation"/>
  <w:LsdException Locked="false" SemiHidden="true" UnhideWhenUsed="true"
   Name="Date"/>
  <w:LsdException Locked="false" SemiHidden="true" UnhideWhenUsed="true"
   Name="Body Text First Indent"/>
  <w:LsdException Locked="false" SemiHidden="true" UnhideWhenUsed="true"
   Name="Body Text First Indent 2"/>
  <w:LsdException Locked="false" SemiHidden="true" UnhideWhenUsed="true"
   Name="Note Heading"/>
  <w:LsdException Locked="false" SemiHidden="true" UnhideWhenUsed="true"
   Name="Body Text 2"/>
  <w:LsdException Locked="false" SemiHidden="true" UnhideWhenUsed="true"
   Name="Body Text 3"/>
  <w:LsdException Locked="false" SemiHidden="true" UnhideWhenUsed="true"
   Name="Body Text Indent 2"/>
  <w:LsdException Locked="false" SemiHidden="true" UnhideWhenUsed="true"
   Name="Body Text Indent 3"/>
  <w:LsdException Locked="false" SemiHidden="true" UnhideWhenUsed="true"
   Name="Block Text"/>
  <w:LsdException Locked="false" SemiHidden="true" UnhideWhenUsed="true"
   Name="Hyperlink"/>
  <w:LsdException Locked="false" SemiHidden="true" UnhideWhenUsed="true"
   Name="FollowedHyperlink"/>
  <w:LsdException Locked="false" Priority="22" QFormat="true" Name="Strong"/>
  <w:LsdException Locked="false" Priority="20" QFormat="true" Name="Emphasis"/>
  <w:LsdException Locked="false" SemiHidden="true" UnhideWhenUsed="true"
   Name="Document Map"/>
  <w:LsdException Locked="false" SemiHidden="true" UnhideWhenUsed="true"
   Name="Plain Text"/>
  <w:LsdException Locked="false" SemiHidden="true" UnhideWhenUsed="true"
   Name="E-mail Signature"/>
  <w:LsdException Locked="false" SemiHidden="true" UnhideWhenUsed="true"
   Name="HTML Top of Form"/>
  <w:LsdException Locked="false" SemiHidden="true" UnhideWhenUsed="true"
   Name="HTML Bottom of Form"/>
  <w:LsdException Locked="false" SemiHidden="true" UnhideWhenUsed="true"
   Name="Normal (Web)"/>
  <w:LsdException Locked="false" SemiHidden="true" UnhideWhenUsed="true"
   Name="HTML Acronym"/>
  <w:LsdException Locked="false" SemiHidden="true" UnhideWhenUsed="true"
   Name="HTML Address"/>
  <w:LsdException Locked="false" SemiHidden="true" UnhideWhenUsed="true"
   Name="HTML Cite"/>
  <w:LsdException Locked="false" SemiHidden="true" UnhideWhenUsed="true"
   Name="HTML Code"/>
  <w:LsdException Locked="false" SemiHidden="true" UnhideWhenUsed="true"
   Name="HTML Definition"/>
  <w:LsdException Locked="false" SemiHidden="true" UnhideWhenUsed="true"
   Name="HTML Keyboard"/>
  <w:LsdException Locked="false" SemiHidden="true" UnhideWhenUsed="true"
   Name="HTML Preformatted"/>
  <w:LsdException Locked="false" SemiHidden="true" UnhideWhenUsed="true"
   Name="HTML Sample"/>
  <w:LsdException Locked="false" SemiHidden="true" UnhideWhenUsed="true"
   Name="HTML Typewriter"/>
  <w:LsdException Locked="false" SemiHidden="true" UnhideWhenUsed="true"
   Name="HTML Variable"/>
  <w:LsdException Locked="false" SemiHidden="true" UnhideWhenUsed="true"
   Name="Normal Table"/>
  <w:LsdException Locked="false" SemiHidden="true" UnhideWhenUsed="true"
   Name="annotation subject"/>
  <w:LsdException Locked="false" SemiHidden="true" UnhideWhenUsed="true"
   Name="No List"/>
  <w:LsdException Locked="false" SemiHidden="true" UnhideWhenUsed="true"
   Name="Outline List 1"/>
  <w:LsdException Locked="false" SemiHidden="true" UnhideWhenUsed="true"
   Name="Outline List 2"/>
  <w:LsdException Locked="false" SemiHidden="true" UnhideWhenUsed="true"
   Name="Outline List 3"/>
  <w:LsdException Locked="false" SemiHidden="true" UnhideWhenUsed="true"
   Name="Table Simple 1"/>
  <w:LsdException Locked="false" SemiHidden="true" UnhideWhenUsed="true"
   Name="Table Simple 2"/>
  <w:LsdException Locked="false" SemiHidden="true" UnhideWhenUsed="true"
   Name="Table Simple 3"/>
  <w:LsdException Locked="false" SemiHidden="true" UnhideWhenUsed="true"
   Name="Table Classic 1"/>
  <w:LsdException Locked="false" SemiHidden="true" UnhideWhenUsed="true"
   Name="Table Classic 2"/>
  <w:LsdException Locked="false" SemiHidden="true" UnhideWhenUsed="true"
   Name="Table Classic 3"/>
  <w:LsdException Locked="false" SemiHidden="true" UnhideWhenUsed="true"
   Name="Table Classic 4"/>
  <w:LsdException Locked="false" SemiHidden="true" UnhideWhenUsed="true"
   Name="Table Colorful 1"/>
  <w:LsdException Locked="false" SemiHidden="true" UnhideWhenUsed="true"
   Name="Table Colorful 2"/>
  <w:LsdException Locked="false" SemiHidden="true" UnhideWhenUsed="true"
   Name="Table Colorful 3"/>
  <w:LsdException Locked="false" SemiHidden="true" UnhideWhenUsed="true"
   Name="Table Columns 1"/>
  <w:LsdException Locked="false" SemiHidden="true" UnhideWhenUsed="true"
   Name="Table Columns 2"/>
  <w:LsdException Locked="false" SemiHidden="true" UnhideWhenUsed="true"
   Name="Table Columns 3"/>
  <w:LsdException Locked="false" SemiHidden="true" UnhideWhenUsed="true"
   Name="Table Columns 4"/>
  <w:LsdException Locked="false" SemiHidden="true" UnhideWhenUsed="true"
   Name="Table Columns 5"/>
  <w:LsdException Locked="false" SemiHidden="true" UnhideWhenUsed="true"
   Name="Table Grid 1"/>
  <w:LsdException Locked="false" SemiHidden="true" UnhideWhenUsed="true"
   Name="Table Grid 2"/>
  <w:LsdException Locked="false" SemiHidden="true" UnhideWhenUsed="true"
   Name="Table Grid 3"/>
  <w:LsdException Locked="false" SemiHidden="true" UnhideWhenUsed="true"
   Name="Table Grid 4"/>
  <w:LsdException Locked="false" SemiHidden="true" UnhideWhenUsed="true"
   Name="Table Grid 5"/>
  <w:LsdException Locked="false" SemiHidden="true" UnhideWhenUsed="true"
   Name="Table Grid 6"/>
  <w:LsdException Locked="false" SemiHidden="true" UnhideWhenUsed="true"
   Name="Table Grid 7"/>
  <w:LsdException Locked="false" SemiHidden="true" UnhideWhenUsed="true"
   Name="Table Grid 8"/>
  <w:LsdException Locked="false" SemiHidden="true" UnhideWhenUsed="true"
   Name="Table List 1"/>
  <w:LsdException Locked="false" SemiHidden="true" UnhideWhenUsed="true"
   Name="Table List 2"/>
  <w:LsdException Locked="false" SemiHidden="true" UnhideWhenUsed="true"
   Name="Table List 3"/>
  <w:LsdException Locked="false" SemiHidden="true" UnhideWhenUsed="true"
   Name="Table List 4"/>
  <w:LsdException Locked="false" SemiHidden="true" UnhideWhenUsed="true"
   Name="Table List 5"/>
  <w:LsdException Locked="false" SemiHidden="true" UnhideWhenUsed="true"
   Name="Table List 6"/>
  <w:LsdException Locked="false" SemiHidden="true" UnhideWhenUsed="true"
   Name="Table List 7"/>
  <w:LsdException Locked="false" SemiHidden="true" UnhideWhenUsed="true"
   Name="Table List 8"/>
  <w:LsdException Locked="false" SemiHidden="true" UnhideWhenUsed="true"
   Name="Table 3D effects 1"/>
  <w:LsdException Locked="false" SemiHidden="true" UnhideWhenUsed="true"
   Name="Table 3D effects 2"/>
  <w:LsdException Locked="false" SemiHidden="true" UnhideWhenUsed="true"
   Name="Table 3D effects 3"/>
  <w:LsdException Locked="false" SemiHidden="true" UnhideWhenUsed="true"
   Name="Table Contemporary"/>
  <w:LsdException Locked="false" SemiHidden="true" UnhideWhenUsed="true"
   Name="Table Elegant"/>
  <w:LsdException Locked="false" SemiHidden="true" UnhideWhenUsed="true"
   Name="Table Professional"/>
  <w:LsdException Locked="false" SemiHidden="true" UnhideWhenUsed="true"
   Name="Table Subtle 1"/>
  <w:LsdException Locked="false" SemiHidden="true" UnhideWhenUsed="true"
   Name="Table Subtle 2"/>
  <w:LsdException Locked="false" SemiHidden="true" UnhideWhenUsed="true"
   Name="Table Web 1"/>
  <w:LsdException Locked="false" SemiHidden="true" UnhideWhenUsed="true"
   Name="Table Web 2"/>
  <w:LsdException Locked="false" SemiHidden="true" UnhideWhenUsed="true"
   Name="Table Web 3"/>
  <w:LsdException Locked="false" SemiHidden="true" UnhideWhenUsed="true"
   Name="Balloon Text"/>
  <w:LsdException Locked="false" Priority="39" Name="Table Grid"/>
  <w:LsdException Locked="false" SemiHidden="true" UnhideWhenUsed="true"
   Name="Table Theme"/>
  <w:LsdException Locked="false" SemiHidden="true" Name="Placeholder Text"/>
  <w:LsdException Locked="false" Priority="1" QFormat="true" Name="No Spacing"/>
  <w:LsdException Locked="false" Priority="60" Name="Light Shading"/>
  <w:LsdException Locked="false" Priority="61" Name="Light List"/>
  <w:LsdException Locked="false" Priority="62" Name="Light Grid"/>
  <w:LsdException Locked="false" Priority="63" Name="Medium Shading 1"/>
  <w:LsdException Locked="false" Priority="64" Name="Medium Shading 2"/>
  <w:LsdException Locked="false" Priority="65" Name="Medium List 1"/>
  <w:LsdException Locked="false" Priority="66" Name="Medium List 2"/>
  <w:LsdException Locked="false" Priority="67" Name="Medium Grid 1"/>
  <w:LsdException Locked="false" Priority="68" Name="Medium Grid 2"/>
  <w:LsdException Locked="false" Priority="69" Name="Medium Grid 3"/>
  <w:LsdException Locked="false" Priority="70" Name="Dark List"/>
  <w:LsdException Locked="false" Priority="71" Name="Colorful Shading"/>
  <w:LsdException Locked="false" Priority="72" Name="Colorful List"/>
  <w:LsdException Locked="false" Priority="73" Name="Colorful Grid"/>
  <w:LsdException Locked="false" Priority="60" Name="Light Shading Accent 1"/>
  <w:LsdException Locked="false" Priority="61" Name="Light List Accent 1"/>
  <w:LsdException Locked="false" Priority="62" Name="Light Grid Accent 1"/>
  <w:LsdException Locked="false" Priority="63" Name="Medium Shading 1 Accent 1"/>
  <w:LsdException Locked="false" Priority="64" Name="Medium Shading 2 Accent 1"/>
  <w:LsdException Locked="false" Priority="65" Name="Medium List 1 Accent 1"/>
  <w:LsdException Locked="false" SemiHidden="true" Name="Revision"/>
  <w:LsdException Locked="false" Priority="34" QFormat="true"
   Name="List Paragraph"/>
  <w:LsdException Locked="false" Priority="29" QFormat="true" Name="Quote"/>
  <w:LsdException Locked="false" Priority="30" QFormat="true"
   Name="Intense Quote"/>
  <w:LsdException Locked="false" Priority="66" Name="Medium List 2 Accent 1"/>
  <w:LsdException Locked="false" Priority="67" Name="Medium Grid 1 Accent 1"/>
  <w:LsdException Locked="false" Priority="68" Name="Medium Grid 2 Accent 1"/>
  <w:LsdException Locked="false" Priority="69" Name="Medium Grid 3 Accent 1"/>
  <w:LsdException Locked="false" Priority="70" Name="Dark List Accent 1"/>
  <w:LsdException Locked="false" Priority="71" Name="Colorful Shading Accent 1"/>
  <w:LsdException Locked="false" Priority="72" Name="Colorful List Accent 1"/>
  <w:LsdException Locked="false" Priority="73" Name="Colorful Grid Accent 1"/>
  <w:LsdException Locked="false" Priority="60" Name="Light Shading Accent 2"/>
  <w:LsdException Locked="false" Priority="61" Name="Light List Accent 2"/>
  <w:LsdException Locked="false" Priority="62" Name="Light Grid Accent 2"/>
  <w:LsdException Locked="false" Priority="63" Name="Medium Shading 1 Accent 2"/>
  <w:LsdException Locked="false" Priority="64" Name="Medium Shading 2 Accent 2"/>
  <w:LsdException Locked="false" Priority="65" Name="Medium List 1 Accent 2"/>
  <w:LsdException Locked="false" Priority="66" Name="Medium List 2 Accent 2"/>
  <w:LsdException Locked="false" Priority="67" Name="Medium Grid 1 Accent 2"/>
  <w:LsdException Locked="false" Priority="68" Name="Medium Grid 2 Accent 2"/>
  <w:LsdException Locked="false" Priority="69" Name="Medium Grid 3 Accent 2"/>
  <w:LsdException Locked="false" Priority="70" Name="Dark List Accent 2"/>
  <w:LsdException Locked="false" Priority="71" Name="Colorful Shading Accent 2"/>
  <w:LsdException Locked="false" Priority="72" Name="Colorful List Accent 2"/>
  <w:LsdException Locked="false" Priority="73" Name="Colorful Grid Accent 2"/>
  <w:LsdException Locked="false" Priority="60" Name="Light Shading Accent 3"/>
  <w:LsdException Locked="false" Priority="61" Name="Light List Accent 3"/>
  <w:LsdException Locked="false" Priority="62" Name="Light Grid Accent 3"/>
  <w:LsdException Locked="false" Priority="63" Name="Medium Shading 1 Accent 3"/>
  <w:LsdException Locked="false" Priority="64" Name="Medium Shading 2 Accent 3"/>
  <w:LsdException Locked="false" Priority="65" Name="Medium List 1 Accent 3"/>
  <w:LsdException Locked="false" Priority="66" Name="Medium List 2 Accent 3"/>
  <w:LsdException Locked="false" Priority="67" Name="Medium Grid 1 Accent 3"/>
  <w:LsdException Locked="false" Priority="68" Name="Medium Grid 2 Accent 3"/>
  <w:LsdException Locked="false" Priority="69" Name="Medium Grid 3 Accent 3"/>
  <w:LsdException Locked="false" Priority="70" Name="Dark List Accent 3"/>
  <w:LsdException Locked="false" Priority="71" Name="Colorful Shading Accent 3"/>
  <w:LsdException Locked="false" Priority="72" Name="Colorful List Accent 3"/>
  <w:LsdException Locked="false" Priority="73" Name="Colorful Grid Accent 3"/>
  <w:LsdException Locked="false" Priority="60" Name="Light Shading Accent 4"/>
  <w:LsdException Locked="false" Priority="61" Name="Light List Accent 4"/>
  <w:LsdException Locked="false" Priority="62" Name="Light Grid Accent 4"/>
  <w:LsdException Locked="false" Priority="63" Name="Medium Shading 1 Accent 4"/>
  <w:LsdException Locked="false" Priority="64" Name="Medium Shading 2 Accent 4"/>
  <w:LsdException Locked="false" Priority="65" Name="Medium List 1 Accent 4"/>
  <w:LsdException Locked="false" Priority="66" Name="Medium List 2 Accent 4"/>
  <w:LsdException Locked="false" Priority="67" Name="Medium Grid 1 Accent 4"/>
  <w:LsdException Locked="false" Priority="68" Name="Medium Grid 2 Accent 4"/>
  <w:LsdException Locked="false" Priority="69" Name="Medium Grid 3 Accent 4"/>
  <w:LsdException Locked="false" Priority="70" Name="Dark List Accent 4"/>
  <w:LsdException Locked="false" Priority="71" Name="Colorful Shading Accent 4"/>
  <w:LsdException Locked="false" Priority="72" Name="Colorful List Accent 4"/>
  <w:LsdException Locked="false" Priority="73" Name="Colorful Grid Accent 4"/>
  <w:LsdException Locked="false" Priority="60" Name="Light Shading Accent 5"/>
  <w:LsdException Locked="false" Priority="61" Name="Light List Accent 5"/>
  <w:LsdException Locked="false" Priority="62" Name="Light Grid Accent 5"/>
  <w:LsdException Locked="false" Priority="63" Name="Medium Shading 1 Accent 5"/>
  <w:LsdException Locked="false" Priority="64" Name="Medium Shading 2 Accent 5"/>
  <w:LsdException Locked="false" Priority="65" Name="Medium List 1 Accent 5"/>
  <w:LsdException Locked="false" Priority="66" Name="Medium List 2 Accent 5"/>
  <w:LsdException Locked="false" Priority="67" Name="Medium Grid 1 Accent 5"/>
  <w:LsdException Locked="false" Priority="68" Name="Medium Grid 2 Accent 5"/>
  <w:LsdException Locked="false" Priority="69" Name="Medium Grid 3 Accent 5"/>
  <w:LsdException Locked="false" Priority="70" Name="Dark List Accent 5"/>
  <w:LsdException Locked="false" Priority="71" Name="Colorful Shading Accent 5"/>
  <w:LsdException Locked="false" Priority="72" Name="Colorful List Accent 5"/>
  <w:LsdException Locked="false" Priority="73" Name="Colorful Grid Accent 5"/>
  <w:LsdException Locked="false" Priority="60" Name="Light Shading Accent 6"/>
  <w:LsdException Locked="false" Priority="61" Name="Light List Accent 6"/>
  <w:LsdException Locked="false" Priority="62" Name="Light Grid Accent 6"/>
  <w:LsdException Locked="false" Priority="63" Name="Medium Shading 1 Accent 6"/>
  <w:LsdException Locked="false" Priority="64" Name="Medium Shading 2 Accent 6"/>
  <w:LsdException Locked="false" Priority="65" Name="Medium List 1 Accent 6"/>
  <w:LsdException Locked="false" Priority="66" Name="Medium List 2 Accent 6"/>
  <w:LsdException Locked="false" Priority="67" Name="Medium Grid 1 Accent 6"/>
  <w:LsdException Locked="false" Priority="68" Name="Medium Grid 2 Accent 6"/>
  <w:LsdException Locked="false" Priority="69" Name="Medium Grid 3 Accent 6"/>
  <w:LsdException Locked="false" Priority="70" Name="Dark List Accent 6"/>
  <w:LsdException Locked="false" Priority="71" Name="Colorful Shading Accent 6"/>
  <w:LsdException Locked="false" Priority="72" Name="Colorful List Accent 6"/>
  <w:LsdException Locked="false" Priority="73" Name="Colorful Grid Accent 6"/>
  <w:LsdException Locked="false" Priority="19" QFormat="true"
   Name="Subtle Emphasis"/>
  <w:LsdException Locked="false" Priority="21" QFormat="true"
   Name="Intense Emphasis"/>
  <w:LsdException Locked="false" Priority="31" QFormat="true"
   Name="Subtle Reference"/>
  <w:LsdException Locked="false" Priority="32" QFormat="true"
   Name="Intense Reference"/>
  <w:LsdException Locked="false" Priority="33" QFormat="true" Name="Book Title"/>
  <w:LsdException Locked="false" Priority="37" SemiHidden="true"
   UnhideWhenUsed="true" Name="Bibliography"/>
  <w:LsdException Locked="false" Priority="39" SemiHidden="true"
   UnhideWhenUsed="true" QFormat="true" Name="TOC Heading"/>
  <w:LsdException Locked="false" Priority="41" Name="Plain Table 1"/>
  <w:LsdException Locked="false" Priority="42" Name="Plain Table 2"/>
  <w:LsdException Locked="false" Priority="43" Name="Plain Table 3"/>
  <w:LsdException Locked="false" Priority="44" Name="Plain Table 4"/>
  <w:LsdException Locked="false" Priority="45" Name="Plain Table 5"/>
  <w:LsdException Locked="false" Priority="40" Name="Grid Table Light"/>
  <w:LsdException Locked="false" Priority="46" Name="Grid Table 1 Light"/>
  <w:LsdException Locked="false" Priority="47" Name="Grid Table 2"/>
  <w:LsdException Locked="false" Priority="48" Name="Grid Table 3"/>
  <w:LsdException Locked="false" Priority="49" Name="Grid Table 4"/>
  <w:LsdException Locked="false" Priority="50" Name="Grid Table 5 Dark"/>
  <w:LsdException Locked="false" Priority="51" Name="Grid Table 6 Colorful"/>
  <w:LsdException Locked="false" Priority="52" Name="Grid Table 7 Colorful"/>
  <w:LsdException Locked="false" Priority="46"
   Name="Grid Table 1 Light Accent 1"/>
  <w:LsdException Locked="false" Priority="47" Name="Grid Table 2 Accent 1"/>
  <w:LsdException Locked="false" Priority="48" Name="Grid Table 3 Accent 1"/>
  <w:LsdException Locked="false" Priority="49" Name="Grid Table 4 Accent 1"/>
  <w:LsdException Locked="false" Priority="50" Name="Grid Table 5 Dark Accent 1"/>
  <w:LsdException Locked="false" Priority="51"
   Name="Grid Table 6 Colorful Accent 1"/>
  <w:LsdException Locked="false" Priority="52"
   Name="Grid Table 7 Colorful Accent 1"/>
  <w:LsdException Locked="false" Priority="46"
   Name="Grid Table 1 Light Accent 2"/>
  <w:LsdException Locked="false" Priority="47" Name="Grid Table 2 Accent 2"/>
  <w:LsdException Locked="false" Priority="48" Name="Grid Table 3 Accent 2"/>
  <w:LsdException Locked="false" Priority="49" Name="Grid Table 4 Accent 2"/>
  <w:LsdException Locked="false" Priority="50" Name="Grid Table 5 Dark Accent 2"/>
  <w:LsdException Locked="false" Priority="51"
   Name="Grid Table 6 Colorful Accent 2"/>
  <w:LsdException Locked="false" Priority="52"
   Name="Grid Table 7 Colorful Accent 2"/>
  <w:LsdException Locked="false" Priority="46"
   Name="Grid Table 1 Light Accent 3"/>
  <w:LsdException Locked="false" Priority="47" Name="Grid Table 2 Accent 3"/>
  <w:LsdException Locked="false" Priority="48" Name="Grid Table 3 Accent 3"/>
  <w:LsdException Locked="false" Priority="49" Name="Grid Table 4 Accent 3"/>
  <w:LsdException Locked="false" Priority="50" Name="Grid Table 5 Dark Accent 3"/>
  <w:LsdException Locked="false" Priority="51"
   Name="Grid Table 6 Colorful Accent 3"/>
  <w:LsdException Locked="false" Priority="52"
   Name="Grid Table 7 Colorful Accent 3"/>
  <w:LsdException Locked="false" Priority="46"
   Name="Grid Table 1 Light Accent 4"/>
  <w:LsdException Locked="false" Priority="47" Name="Grid Table 2 Accent 4"/>
  <w:LsdException Locked="false" Priority="48" Name="Grid Table 3 Accent 4"/>
  <w:LsdException Locked="false" Priority="49" Name="Grid Table 4 Accent 4"/>
  <w:LsdException Locked="false" Priority="50" Name="Grid Table 5 Dark Accent 4"/>
  <w:LsdException Locked="false" Priority="51"
   Name="Grid Table 6 Colorful Accent 4"/>
  <w:LsdException Locked="false" Priority="52"
   Name="Grid Table 7 Colorful Accent 4"/>
  <w:LsdException Locked="false" Priority="46"
   Name="Grid Table 1 Light Accent 5"/>
  <w:LsdException Locked="false" Priority="47" Name="Grid Table 2 Accent 5"/>
  <w:LsdException Locked="false" Priority="48" Name="Grid Table 3 Accent 5"/>
  <w:LsdException Locked="false" Priority="49" Name="Grid Table 4 Accent 5"/>
  <w:LsdException Locked="false" Priority="50" Name="Grid Table 5 Dark Accent 5"/>
  <w:LsdException Locked="false" Priority="51"
   Name="Grid Table 6 Colorful Accent 5"/>
  <w:LsdException Locked="false" Priority="52"
   Name="Grid Table 7 Colorful Accent 5"/>
  <w:LsdException Locked="false" Priority="46"
   Name="Grid Table 1 Light Accent 6"/>
  <w:LsdException Locked="false" Priority="47" Name="Grid Table 2 Accent 6"/>
  <w:LsdException Locked="false" Priority="48" Name="Grid Table 3 Accent 6"/>
  <w:LsdException Locked="false" Priority="49" Name="Grid Table 4 Accent 6"/>
  <w:LsdException Locked="false" Priority="50" Name="Grid Table 5 Dark Accent 6"/>
  <w:LsdException Locked="false" Priority="51"
   Name="Grid Table 6 Colorful Accent 6"/>
  <w:LsdException Locked="false" Priority="52"
   Name="Grid Table 7 Colorful Accent 6"/>
  <w:LsdException Locked="false" Priority="46" Name="List Table 1 Light"/>
  <w:LsdException Locked="false" Priority="47" Name="List Table 2"/>
  <w:LsdException Locked="false" Priority="48" Name="List Table 3"/>
  <w:LsdException Locked="false" Priority="49" Name="List Table 4"/>
  <w:LsdException Locked="false" Priority="50" Name="List Table 5 Dark"/>
  <w:LsdException Locked="false" Priority="51" Name="List Table 6 Colorful"/>
  <w:LsdException Locked="false" Priority="52" Name="List Table 7 Colorful"/>
  <w:LsdException Locked="false" Priority="46"
   Name="List Table 1 Light Accent 1"/>
  <w:LsdException Locked="false" Priority="47" Name="List Table 2 Accent 1"/>
  <w:LsdException Locked="false" Priority="48" Name="List Table 3 Accent 1"/>
  <w:LsdException Locked="false" Priority="49" Name="List Table 4 Accent 1"/>
  <w:LsdException Locked="false" Priority="50" Name="List Table 5 Dark Accent 1"/>
  <w:LsdException Locked="false" Priority="51"
   Name="List Table 6 Colorful Accent 1"/>
  <w:LsdException Locked="false" Priority="52"
   Name="List Table 7 Colorful Accent 1"/>
  <w:LsdException Locked="false" Priority="46"
   Name="List Table 1 Light Accent 2"/>
  <w:LsdException Locked="false" Priority="47" Name="List Table 2 Accent 2"/>
  <w:LsdException Locked="false" Priority="48" Name="List Table 3 Accent 2"/>
  <w:LsdException Locked="false" Priority="49" Name="List Table 4 Accent 2"/>
  <w:LsdException Locked="false" Priority="50" Name="List Table 5 Dark Accent 2"/>
  <w:LsdException Locked="false" Priority="51"
   Name="List Table 6 Colorful Accent 2"/>
  <w:LsdException Locked="false" Priority="52"
   Name="List Table 7 Colorful Accent 2"/>
  <w:LsdException Locked="false" Priority="46"
   Name="List Table 1 Light Accent 3"/>
  <w:LsdException Locked="false" Priority="47" Name="List Table 2 Accent 3"/>
  <w:LsdException Locked="false" Priority="48" Name="List Table 3 Accent 3"/>
  <w:LsdException Locked="false" Priority="49" Name="List Table 4 Accent 3"/>
  <w:LsdException Locked="false" Priority="50" Name="List Table 5 Dark Accent 3"/>
  <w:LsdException Locked="false" Priority="51"
   Name="List Table 6 Colorful Accent 3"/>
  <w:LsdException Locked="false" Priority="52"
   Name="List Table 7 Colorful Accent 3"/>
  <w:LsdException Locked="false" Priority="46"
   Name="List Table 1 Light Accent 4"/>
  <w:LsdException Locked="false" Priority="47" Name="List Table 2 Accent 4"/>
  <w:LsdException Locked="false" Priority="48" Name="List Table 3 Accent 4"/>
  <w:LsdException Locked="false" Priority="49" Name="List Table 4 Accent 4"/>
  <w:LsdException Locked="false" Priority="50" Name="List Table 5 Dark Accent 4"/>
  <w:LsdException Locked="false" Priority="51"
   Name="List Table 6 Colorful Accent 4"/>
  <w:LsdException Locked="false" Priority="52"
   Name="List Table 7 Colorful Accent 4"/>
  <w:LsdException Locked="false" Priority="46"
   Name="List Table 1 Light Accent 5"/>
  <w:LsdException Locked="false" Priority="47" Name="List Table 2 Accent 5"/>
  <w:LsdException Locked="false" Priority="48" Name="List Table 3 Accent 5"/>
  <w:LsdException Locked="false" Priority="49" Name="List Table 4 Accent 5"/>
  <w:LsdException Locked="false" Priority="50" Name="List Table 5 Dark Accent 5"/>
  <w:LsdException Locked="false" Priority="51"
   Name="List Table 6 Colorful Accent 5"/>
  <w:LsdException Locked="false" Priority="52"
   Name="List Table 7 Colorful Accent 5"/>
  <w:LsdException Locked="false" Priority="46"
   Name="List Table 1 Light Accent 6"/>
  <w:LsdException Locked="false" Priority="47" Name="List Table 2 Accent 6"/>
  <w:LsdException Locked="false" Priority="48" Name="List Table 3 Accent 6"/>
  <w:LsdException Locked="false" Priority="49" Name="List Table 4 Accent 6"/>
  <w:LsdException Locked="false" Priority="50" Name="List Table 5 Dark Accent 6"/>
  <w:LsdException Locked="false" Priority="51"
   Name="List Table 6 Colorful Accent 6"/>
  <w:LsdException Locked="false" Priority="52"
   Name="List Table 7 Colorful Accent 6"/>
  <w:LsdException Locked="false" SemiHidden="true" UnhideWhenUsed="true"
   Name="Mention"/>
  <w:LsdException Locked="false" SemiHidden="true" UnhideWhenUsed="true"
   Name="Smart Hyperlink"/>
  <w:LsdException Locked="false" SemiHidden="true" UnhideWhenUsed="true"
   Name="Hashtag"/>
  <w:LsdException Locked="false" SemiHidden="true" UnhideWhenUsed="true"
   Name="Unresolved Mention"/>
  <w:LsdException Locked="false" SemiHidden="true" UnhideWhenUsed="true"
   Name="Smart Link"/>
 </w:LatentStyles>
</xml><![endif]-->
<style scoped>
<!--
\n",
              "    .dataframe tbody tr th:only-of-type {\n",
              "        vertical-align: middle;\n",
              "    }\n",
              "\n",
              "    .dataframe tbody tr th {\n",
              "        vertical-align: top;\n",
              "    }\n",
              "\n",
              "    .dataframe thead th {\n",
              "        text-align: right;\n",
              "    }\n",
              "</style>\n",
              "<table border=\"1\" class=\"dataframe\">\n",
              "  <thead>\n",
              "    <tr style=\"text-align: right;\">\n",
              "      <th></th>\n",
              "      <th>v1</th>\n",
              "      <th>v2</th>\n",
              "      <th>Unnamed: 2</th>\n",
              "      <th>Unnamed: 3</th>\n",
              "      <th>Unnamed: 4</th>\n",
              "    </tr>\n",
              "  </thead>\n",
              "  <tbody>\n",
              "    <tr>\n",
              "      <th>0</th>\n",
              "      <td>ham</td>\n",
              "      <td>Go until jurong point, crazy.. Available only ...</td>\n",
              "      <td>NaN</td>\n",
              "      <td>NaN</td>\n",
              "      <td>NaN</td>\n",
              "    </tr>\n",
              "    <tr>\n",
              "      <th>1</th>\n",
              "      <td>ham</td>\n",
              "      <td>Ok lar... Joking wif u oni...</td>\n",
              "      <td>NaN</td>\n",
              "      <td>NaN</td>\n",
              "      <td>NaN</td>\n",
              "    </tr>\n",
              "    <tr>\n",
              "      <th>2</th>\n",
              "      <td>spam</td>\n",
              "      <td>Free entry in 2 a wkly comp to win FA Cup fina...</td>\n",
              "      <td>NaN</td>\n",
              "      <td>NaN</td>\n",
              "      <td>NaN</td>\n",
              "    </tr>\n",
              "    <tr>\n",
              "      <th>3</th>\n",
              "      <td>ham</td>\n",
              "      <td>U dun say so early hor... U c already then say...</td>\n",
              "      <td>NaN</td>\n",
              "      <td>NaN</td>\n",
              "      <td>NaN</td>\n",
              "    </tr>\n",
              "    <tr>\n",
              "      <th>4</th>\n",
              "      <td>ham</td>\n",
              "      <td>Nah I don't think he goes to usf, he lives aro...</td>\n",
              "      <td>NaN</td>\n",
              "      <td>NaN</td>\n",
              "      <td>NaN</td>\n",
              "    </tr>\n",
              "  </tbody>\n",
              "</table>\n",
              "</div>\n",
              "      <button class=\"colab-df-convert\" onclick=\"convertToInteractive('df-7f2a7665-3156-46fa-9e2a-6534bea2728b')\"\n",
              "              title=\"Convert this dataframe to an interactive table.\"\n",
              "              style=\"display:none;\">\n",
              "        \n",
              "  <svg xmlns=\"http://www.w3.org/2000/svg\" height=\"24px\"viewBox=\"0 0 24 24\"\n",
              "       width=\"24px\">\n",
              "    <path d=\"M0 0h24v24H0V0z\" fill=\"none\"/>\n",
              "    <path d=\"M18.56 5.44l.94 2.06.94-2.06 2.06-.94-2.06-.94-.94-2.06-.94 2.06-2.06.94zm-11 1L8.5 8.5l.94-2.06 2.06-.94-2.06-.94L8.5 2.5l-.94 2.06-2.06.94zm10 10l.94 2.06.94-2.06 2.06-.94-2.06-.94-.94-2.06-.94 2.06-2.06.94z\"/><path d=\"M17.41 7.96l-1.37-1.37c-.4-.4-.92-.59-1.43-.59-.52 0-1.04.2-1.43.59L10.3 9.45l-7.72 7.72c-.78.78-.78 2.05 0 2.83L4 21.41c.39.39.9.59 1.41.59.51 0 1.02-.2 1.41-.59l7.78-7.78 2.81-2.81c.8-.78.8-2.07 0-2.86zM5.41 20L4 18.59l7.72-7.72 1.47 1.35L5.41 20z\"/>\n",
              "  </svg>\n",
              "      </button>\n",
              "      \n",
              "  <style>\n",
              "    .colab-df-container {\n",
              "      display:flex;\n",
              "      flex-wrap:wrap;\n",
              "      gap: 12px;\n",
              "    }\n",
              "\n",
              "    .colab-df-convert {\n",
              "      background-color: #E8F0FE;\n",
              "      border: none;\n",
              "      border-radius: 50%;\n",
              "      cursor: pointer;\n",
              "      display: none;\n",
              "      fill: #1967D2;\n",
              "      height: 32px;\n",
              "      padding: 0 0 0 0;\n",
              "      width: 32px;\n",
              "    }\n",
              "\n",
              "    .colab-df-convert:hover {\n",
              "      background-color: #E2EBFA;\n",
              "      box-shadow: 0px 1px 2px rgba(60, 64, 67, 0.3), 0px 1px 3px 1px rgba(60, 64, 67, 0.15);\n",
              "      fill: #174EA6;\n",
              "    }\n",
              "\n",
              "    [theme=dark] .colab-df-convert {\n",
              "      background-color: #3B4455;\n",
              "      fill: #D2E3FC;\n",
              "    }\n",
              "\n",
              "    [theme=dark] .colab-df-convert:hover {\n",
              "      background-color: #434B5C;\n",
              "      box-shadow: 0px 1px 3px 1px rgba(0, 0, 0, 0.15);\n",
              "      filter: drop-shadow(0px 1px 2px rgba(0, 0, 0, 0.3));\n",
              "      fill: #FFFFFF;\n",
              "    }\n",
              "  </style>\n",
              "\n",
              "      <script>\n",
              "        const buttonEl =\n",
              "          document.querySelector('#df-7f2a7665-3156-46fa-9e2a-6534bea2728b button.colab-df-convert');\n",
              "        buttonEl.style.display =\n",
              "          google.colab.kernel.accessAllowed ? 'block' : 'none';\n",
              "\n",
              "        async function convertToInteractive(key) {\n",
              "          const element = document.querySelector('#df-7f2a7665-3156-46fa-9e2a-6534bea2728b');\n",
              "          const dataTable =\n",
              "            await google.colab.kernel.invokeFunction('convertToInteractive',\n",
              "                                                     [key], {});\n",
              "          if (!dataTable) return;\n",
              "\n",
              "          const docLinkHtml = 'Like what you see? Visit the ' +\n",
              "            '<a target=\"_blank\" href=https://colab.research.google.com/notebooks/data_table.ipynb>data table notebook</a>'\n",
              "            + ' to learn more about interactive tables.';\n",
              "          element.innerHTML = '';\n",
              "          dataTable['output_type'] = 'display_data';\n",
              "          await google.colab.output.renderOutput(dataTable, element);\n",
              "          const docLink = document.createElement('div');\n",
              "          docLink.innerHTML = docLinkHtml;\n",
              "          element.appendChild(docLink);\n",
              "        }\n",
              "      </script>\n",
              "    </div>\n",
              "  </div>\n",
              "  "
            ]
          },
          "metadata": {}
: 4
        }
      ]
    },
    {
      "cell_type": "markdown",
      "source": [
        "**Preprocessing the Dataset**\n",
        "\n"
      ],
      "metadata": {
        "id": "DwOfH7PlM8js"
      }
    }
: [
        "df.drop(['Unnamed: 2', 'Unnamed: 3', 'Unnamed: 4'],axis=1,inplace=True)"
      ],
      "metadata": {
        "id": "2LFZJOEIM6Yd"
      }
: 5,
      "outputs": []
    },
    {
      "cell_type": "code",
      "source": [
        "from wordcloud import WordCloud, STOPWORDS, ImageColorGenerator"
      ],
      "metadata": {
        "id": "BfqoIHdVNBQ0"
      },
      "execution_count": 6,
      "outputs": []
    }
: [
        "X = df.v2\n",
        "Y = df.v1\n",
        "le = LabelEncoder()\n",
        "Y = le.fit_transform(Y)\n",
        "Y = Y.reshape(-1,1)"
      ],
      "metadata": {
        "id": "g5RbYnZhND68"
      }
: 7,
      "outputs": []
    },
    {
      "cell_type": "code",
      "source": [
        "X_train,X_test,Y_train,Y_test = train_test_split(X,Y,test_size=0.2)"
      ],
      "metadata": {
        "id": "tt7nnzE5NG7N"
      },
      "execution_count": 8,
      "outputs": []
    }
: [
        "max_words = 1000\n",
        "max_len = 150\n",
        "tok = Tokenizer(num_words=max_words)\n",
        "tok.fit_on_texts(X_train)\n",
        "sequences = tok.texts_to_sequences(X_train)\n",
        "sequences_matrix = pad_sequences(sequences,maxlen=max_len)"
      ],
      "metadata": {
        "id": "A1MuDNteNJd9"
      }
: 9,
      "outputs": []
    },
    {
      "cell_type": "markdown",
      "source": [
        "**Create Model and Add Layers**"
      ],
      "metadata": {
        "id": "cil1AmKDNMjd"
      }
    }
: [
        "inputs = Input(shape=[max_len])\n",
        "layer = Embedding(max_words,50,input_length=max_len)(inputs)\n",
        "layer = LSTM(128)(layer)\n",
        "layer = Dense(128)(layer)\n",
        "layer = Activation('relu')(layer)\n",
        "layer = Dropout(0.5)(layer)\n",
        "layer = Dense(1)(layer)\n",
        "layer = Activation('sigmoid')(layer)\n",
        "model = Model(inputs=inputs,outputs=layer)\n",
        "\n",
        "model.summary()"
      ],
      "metadata": {
        "colab": {
          "base_uri": "https://localhost:8080/"
        },
        "id": "bHkdOACoNPT8",
        "outputId": "06bcec9c-a299-4ca3-a1cb-a51e5c03b67f"
      }
: 10,
      "outputs": [
        {
          "output_type": "stream",
          "name": "stdout",
          "text": [
            "Model: \"model\"\n",
            "_________________________________________________________________\n",
            " Layer (type)                Output Shape              Param #   \n",
            "=================================================================\n",
            " input_1 (InputLayer)        [(None, 150)]             0         \n",
            "                                                                 \n",
            " embedding (Embedding)       (None, 150, 50)           50000     \n",
            "                                                                 \n",
            " lstm (LSTM)                 (None, 128)               91648     \n",
            "                                                                 \n",
            " dense (Dense)               (None, 128)               16512     \n",
            "                                                                 \n",
            " activation (Activation)     (None, 128)               0         \n",
            "                                                                 \n",
            " dropout (Dropout)           (None, 128)               0         \n",
            "                                                                 \n",
            " dense_1 (Dense)             (None, 1)                 129       \n",
            "                                                                 \n",
            " activation_1 (Activation)   (None, 1)                 0         \n",
            "                                                                 \n",
            "=================================================================\n",
            "Total params: 158,289\n",
            "Trainable params: 158,289\n",
            "Non-trainable params: 0\n",
            "_________________________________________________________________\n"
          ]
        }
]
    },
    {
      "cell_type": "markdown",
      "source": [
        "**Compiling the Model**"
      ],
      "metadata": {
        "id": "XOTMP3RoNWnc"
      }
    }
: [
        "model.compile(loss='binary_crossentropy',optimizer=Adam(),metrics=['accuracy'])"
      ],
      "metadata": {
        "id": "DhwQW0MdNSxk"
      }
: 11,
      "outputs": []
    },
    {
      "cell_type": "markdown",
      "source": [
        "**Training the Model**"
      ],
      "metadata": {
        "id": "N6gfaKHtNc0M"
      }
    }
: [
        "history = model.fit(sequences_matrix,Y_train,batch_size=0,epochs=10,\n",
        "          validation_split=0.2)"
      ],
      "metadata": {
        "colab": {
          "base_uri": "https://localhost:8080/"
        },
        "id": "2QcaEVtoNaBN",
        "outputId": "22bee3ec-3104-4c5b-9af5-2034f4106c72"
      }
: 15,
      "outputs": [
        {
          "output_type": "stream",
          "name": "stdout",
          "text": [
            "Epoch 1/10\n",
            "112/112 [==============================] - 41s 365ms/step - loss: 3.5411e-05 - accuracy: 1.0000 - val_loss: 0.1568 - val_accuracy: 0.9809\n",
            "Epoch 2/10\n",
            "112/112 [==============================] - 26s 235ms/step - loss: 4.1041e-05 - accuracy: 1.0000 - val_loss: 0.1614 - val_accuracy: 0.9809\n",
            "Epoch 3/10\n",
            "112/112 [==============================] - 26s 235ms/step - loss: 3.0118e-05 - accuracy: 1.0000 - val_loss: 0.1677 - val_accuracy: 0.9809\n",
            "Epoch 4/10\n",
            "112/112 [==============================] - 28s 251ms/step - loss: 2.4168e-05 - accuracy: 1.0000 - val_loss: 0.1700 - val_accuracy: 0.9798\n",
            "Epoch 5/10\n",
            "112/112 [==============================] - 26s 234ms/step - loss: 1.4231e-05 - accuracy: 1.0000 - val_loss: 0.1732 - val_accuracy: 0.9798\n",
            "Epoch 6/10\n",
            "112/112 [==============================] - 26s 235ms/step - loss: 1.5056e-05 - accuracy: 1.0000 - val_loss: 0.1731 - val_accuracy: 0.9809\n",
            "Epoch 7/10\n",
            "112/112 [==============================] - 26s 234ms/step - loss: 1.1918e-05 - accuracy: 1.0000 - val_loss: 0.1780 - val_accuracy: 0.9798\n",
            "Epoch 8/10\n",
            "112/112 [==============================] - 30s 267ms/step - loss: 9.8462e-06 - accuracy: 1.0000 - val_loss: 0.1822 - val_accuracy: 0.9809\n",
            "Epoch 9/10\n",
            "112/112 [==============================] - 26s 237ms/step - loss: 1.3027e-05 - accuracy: 1.0000 - val_loss: 0.1811 - val_accuracy: 0.9809\n",
            "Epoch 10/10\n",
            "112/112 [==============================] - 26s 235ms/step - loss: 7.0288e-06 - accuracy: 1.0000 - val_loss: 0.1860 - val_accuracy: 0.9798\n"
          ]
        }
]
    },
    {
      "cell_type": "code",
      "source": [
        "metrics = pd.DataFrame(history.history)\n",
        "metrics.rename(columns = {'loss': 'Training_Loss', 'accuracy': 'Training_Accuracy', 'val_loss': 'Validation_Loss', 'val_accuracy': 'Validation_Accuracy'}, inplace = True)\n",
        "def plot_graphs1(var1, var2, string):\n",
        "    metrics[[var1, var2]].plot()\n",
        "    plt.title('Training and Validation ' + string)\n",
        "    plt.xlabel ('Number of epochs')\n",
        "    plt.ylabel(string)\n",
        "    plt.legend([var1, var2])"
      ],
      "metadata": {
        "id": "30HlmMBpN9uk"
      },
      "execution_count": 13,
      "outputs": []
    }
: [
        "plot_graphs1('Training_Accuracy', 'Validation_Accuracy', 'accuracy')"
      ],
      "metadata": {
        "colab": {
          "base_uri": "https://localhost:8080/",
          "height": 295
        },
        "id": "coIuQtJAOCvF",
        "outputId": "f57145df-da18-4b81-ce5b-d2b84fd27a04"
      }
: 16,
      "outputs": [
        {
          "output_type": "display_data",
          "data": {
            "text/plain": [
              "<Figure size 432x288 with 1 Axes>"
            ],
            "image/png": "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\n"
          },
          "metadata": {
            "needs_background": "light"
          }
        }
]
    },
    {
      "cell_type": "markdown",
      "source": [
        "**Saving the Model**"
      ],
      "metadata": {
        "id": "LPCRrC_7ODT0"
      }
    }
: [
        "model.save('Spam_sms_classifier.h5')"
      ],
      "metadata": {
        "id": "H4r83pjMOK2k"
      }
: 17,
      "outputs": []
    },
    {
      "cell_type": "markdown",
      "source": [
        "**Preprocessing the Test Dataset**"
      ],
      "metadata": {
        "id": "GidrniMkOVJM"
      }
    }
: [
        "test_sequences = tok.texts_to_sequences(X_test)\n",
        "test_sequences_matrix = pad_sequences(test_sequences,maxlen=max_len)"
      ],
      "metadata": {
        "id": "WBM7BArjOVyr"
      }
: 18,
      "outputs": []
    },
    {
      "cell_type": "markdown",
      "source": [
        "**Testing the Model**"
      ],
      "metadata": {
        "id": "bd2shfpbObSz"
      }
    }
: [
        "accuracy1 = model.evaluate(test_sequences_matrix,Y_test)"
      ],
      "metadata": {
        "colab": {
          "base_uri": "https://localhost:8080/"
        },
        "id": "RMxQ3CGXOcx7",
        "outputId": "f95b2c99-2bf3-4288-ab96-f872e9570003"
      }
: 19,
      "outputs": [
        {
          "output_type": "stream",
          "name": "stdout",
          "text": [
            "35/35 [==============================] - 3s 79ms/step - loss: 0.1855 - accuracy: 0.9830\n"
          ]
        }
]
    },
    {
      "cell_type": "code",
      "source": [
        "print(' Accuracy: {:0.3f}'.format(accuracy1[0],accuracy1[1]))"
      ],
      "metadata": {
        "colab": {
          "base_uri": "https://localhost:8080/"
        },
        "id": "klb42FzyOhy7",
        "outputId": "52ce7c73-6020-4e7d-d768-2b5f256996e3"
      },
      "execution_count": 20,
      "outputs": [
        {
          "output_type": "stream",
          "name": "stdout",
          "text": [
            " Accuracy: 0.185\n"
          ]
        }
      ]
    }
]
}

 /* Font Definitions */
 @font-face
	{font-family:"Cambria Math";
	panose-1:2 4 5 3 5 4 6 3 2 4;
	mso-font-charset:0;
	mso-generic-font-family:roman;
	mso-font-pitch:variable;
	mso-font-signature:3 0 0 0 1 0;}
 /* Style Definitions */
 p.MsoNormal, li.MsoNormal, div.MsoNormal
	{mso-style-unhide:no;
	mso-style-qformat:yes;
	mso-style-parent:"";
	margin:0cm;
	mso-pagination:widow-orphan;
	font-size:12.0pt;
	font-family:"Times New Roman",serif;
	mso-fareast-font-family:"Times New Roman";
	mso-fareast-theme-font:minor-fareast;}
p.msonormal0, li.msonormal0, div.msonormal0
	{mso-style-name:msonormal;
	mso-style-unhide:no;
	mso-margin-top-alt:auto;
	margin-right:0cm;
	mso-margin-bottom-alt:auto;
	margin-left:0cm;
	mso-pagination:widow-orphan;
	font-size:12.0pt;
	font-family:"Times New Roman",serif;
	mso-fareast-font-family:"Times New Roman";
	mso-fareast-theme-font:minor-fareast;}
.MsoChpDefault
	{mso-style-type:export-only;
	mso-default-props:yes;
	font-size:10.0pt;
	mso-ansi-font-size:10.0pt;
	mso-bidi-font-size:10.0pt;}
@page WordSection1
	{size:595.3pt 841.9pt;
	margin:72.0pt 72.0pt 72.0pt 72.0pt;
	mso-header-margin:35.4pt;
	mso-footer-margin:35.4pt;
	mso-paper-source:0;}
div.WordSection1
	{page:WordSection1;}
-->
</style>
<!--[if gte mso 10]>
<style>
 /* Style Definitions */
 table.MsoNormalTable
	{mso-style-name:"Table Normal";
	mso-tstyle-rowband-size:0;
	mso-tstyle-colband-size:0;
	mso-style-noshow:yes;
	mso-style-priority:99;
	mso-style-parent:"";
	mso-padding-alt:0cm 5.4pt 0cm 5.4pt;
	mso-para-margin:0cm;
	mso-pagination:widow-orphan;
	font-size:10.0pt;
	font-family:"Times New Roman",serif;}
</style>
<![endif]--><!--[if gte mso 9]><xml>
 <o:shapedefaults v:ext="edit" spidmax="1026"/>
</xml><![endif]--><!--[if gte mso 9]><xml>
 <o:shapelayout v:ext="edit">
  <o:idmap v:ext="edit" data="1"/>
 </o:shapelayout></xml><![endif]-->
</head>

<body lang=EN-IN style='tab-interval:36.0pt;word-wrap:break-word'>

<div class=WordSection1>

<p class=MsoNormal><span style='mso-fareast-font-family:"Times New Roman"'>{
&quot;nbformat&quot;: 4, &quot;nbformat_minor&quot;: 0, &quot;metadata&quot;: {
&quot;colab&quot;: { &quot;provenance&quot;: [] }, &quot;kernelspec&quot;: {
&quot;name&quot;: &quot;python3&quot;, &quot;display_name&quot;: &quot;Python
3&quot; }, &quot;language_info&quot;: { &quot;name&quot;: &quot;python&quot; }
}, &quot;cells&quot;: [ { &quot;cell_type&quot;: &quot;code&quot;, &quot;execution_count&quot;:
1, &quot;metadata&quot;: { &quot;id&quot;: &quot;6xHaeFhOMBJj&quot; },
&quot;outputs&quot;: [], &quot;source&quot;: [ &quot;import pandas as
pd\n&quot;, &quot;import numpy as np\n&quot;, &quot;import matplotlib.pyplot as
plt\n&quot;, &quot;\n&quot;, &quot;from sklearn.model_selection import
train_test_split\n&quot;, &quot;from sklearn.preprocessing import
LabelEncoder\n&quot;, &quot;from keras.models import Model\n&quot;, &quot;from
keras.layers import LSTM, Activation, Dense, Dropout, Input, Embedding\n&quot;,
&quot;from keras.optimizers import Adam\n&quot;, &quot;from keras.preprocessing.text
import Tokenizer\n&quot;, &quot;from keras.preprocessing import
sequence\n&quot;, &quot;from keras.utils import pad_sequences\n&quot;,
&quot;from keras.utils import to_categorical\n&quot;, &quot;from
keras.callbacks import EarlyStopping&quot; ] }, { &quot;cell_type&quot;:
&quot;code&quot;, &quot;source&quot;: [ &quot;df =
pd.read_csv('/content/drive/MyDrive/Assignment_4/spam.csv',delimiter=',',encoding='latin-1')&quot;
], &quot;metadata&quot;: { &quot;id&quot;: &quot;heabpBsFMuM7&quot; },
&quot;execution_count&quot;: 3, &quot;outputs&quot;: [] }, {
&quot;cell_type&quot;: &quot;code&quot;, &quot;source&quot;: [ &quot;df.head()&quot;
], &quot;metadata&quot;: { &quot;colab&quot;: { &quot;base_uri&quot;:
&quot;https://localhost:8080/&quot;, &quot;height&quot;: 206 }, &quot;id&quot;:
&quot;zw5GMJmMM3WU&quot;, &quot;outputId&quot;:
&quot;dc00c406-b78a-4a95-ad15-8aaa1d66b266&quot; },
&quot;execution_count&quot;: 4, &quot;outputs&quot;: [ {
&quot;output_type&quot;: &quot;execute_result&quot;, &quot;data&quot;: {
&quot;text/plain&quot;: [ &quot; v1 v2 Unnamed: 2 \\\n&quot;, &quot;0 ham Go
until jurong point, crazy.. Available only ... NaN \n&quot;, &quot;1 ham Ok
lar... Joking wif u oni... NaN \n&quot;, &quot;2 spam Free entry in 2 a wkly
comp to win FA Cup fina... NaN \n&quot;, &quot;3 ham U dun say so early hor...
U c already then say... NaN \n&quot;, &quot;4 ham Nah I don't think he goes to
usf, he lives aro... NaN \n&quot;, &quot;\n&quot;, &quot; Unnamed: 3 Unnamed: 4
\n&quot;, &quot;0 NaN NaN \n&quot;, &quot;1 NaN NaN \n&quot;, &quot;2 NaN NaN
\n&quot;, &quot;3 NaN NaN \n&quot;, &quot;4 NaN NaN &quot; ],
&quot;text/html&quot;: [ &quot;\n&quot;, &quot; <o:p></o:p></span></p>

<div id="\&quot;df-7f2a7665-3156-46fa-9e2a-6534bea2728b\">

<p class=MsoNormal><span style='mso-fareast-font-family:"Times New Roman"'>\n&quot;,
&quot; <o:p></o:p></span></p>

<div>

<p class=MsoNormal><span style='mso-fareast-font-family:"Times New Roman"'>\n&quot;,
&quot; <o:p></o:p></span></p>

<div>

<p class=MsoNormal><span style='mso-fareast-font-family:"Times New Roman"'>\n&quot;,
&quot;<o:p></o:p></span></p>

</div>

</div>

</div>

</div>

</body>

</html>
